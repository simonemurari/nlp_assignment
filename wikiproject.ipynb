{
 "cells": [
  {
   "cell_type": "code",
   "execution_count": 47,
   "metadata": {},
   "outputs": [],
   "source": [
    "import os\n",
    "from nltk.corpus import stopwords\n",
    "from nltk.stem import SnowballStemmer\n",
    "from nltk.tokenize import word_tokenize\n",
    "from nltk.probability import FreqDist\n",
    "from nltk.classify import NaiveBayesClassifier\n",
    "from sklearn.metrics import ConfusionMatrixDisplay\n",
    "from sklearn.metrics import classification_report\n",
    "import matplotlib.pyplot as plt\n",
    "from time import sleep\n",
    "from pymed import PubMed\n",
    "import random\n",
    "import wikipediaapi"
   ]
  },
  {
   "cell_type": "code",
   "execution_count": 48,
   "metadata": {},
   "outputs": [
    {
     "name": "stdout",
     "output_type": "stream",
     "text": [
      "The corpus contains 1500 documents, 800 medical and 700 non-medical\n"
     ]
    }
   ],
   "source": [
    "# I save the corpus in memory as a list of tuples (document, category) because the NaiveBayesClassifier accepts the input in this shape\n",
    "corpus = []\n",
    "for file in os.listdir('pages'):\n",
    "    with open('pages/' + file, 'r') as f:\n",
    "        corpus.append((f.read(), file.split('[')[1].split(']')[0]))\n",
    "\n",
    "# I print the number of documents in the corpus and the number of medical and non-medical documents\n",
    "print(f'The corpus contains {len(corpus)} documents, {len([_ for _, cat in corpus if cat == \"medical\"])} medical and {len([_ for _, cat in corpus if cat == \"non-medical\"])} non-medical')\n",
    "\n",
    "# I shuffle the corpus to avoid any bias, i use the seed to get the same shuffle every time\n",
    "random.Random(1).shuffle(corpus)\n",
    "\n",
    "# I use NLTK to get the stopwords and the SnowballStemmer for the english language to remove unneccessary words and get the roots of the remaining ones\n",
    "stop_words = set(stopwords.words('english'))\n",
    "stemmer = SnowballStemmer('english')\n",
    "\n",
    "# I preprocess the documents by tokenizing them using NLTK word_tokenize, removing the stopwords and stemming the words\n",
    "preprocessed_documents = []\n",
    "for document, category in corpus:\n",
    "    words = word_tokenize(document.lower())\n",
    "    words = [word for word in words if word.isalpha() and word not in stop_words]\n",
    "    words = [stemmer.stem(word) for word in words]\n",
    "    preprocessed_documents.append((words, category))\n",
    "\n",
    "# I get the 4000 most common words in the corpus and I save them in a list to use them as features later on\n",
    "all_words = []\n",
    "for words, _ in preprocessed_documents:\n",
    "    all_words.extend(words)\n",
    "word_freq = FreqDist(all_words)\n",
    "most_common_words = [word for word, _ in word_freq.most_common(4000)]\n",
    "\n",
    "# I define a function to extract the features from the documents using the 4000 most common words: if a word is present in the document, the feature is True, otherwise it is False (Bag of Words)\n",
    "def document_features(document):\n",
    "    document_words = set(document)\n",
    "    features = {}\n",
    "    for word in most_common_words:\n",
    "        features[word] = (word in document_words)\n",
    "    return features"
   ]
  },
  {
   "cell_type": "code",
   "execution_count": 49,
   "metadata": {},
   "outputs": [
    {
     "name": "stdout",
     "output_type": "stream",
     "text": [
      "              precision    recall  f1-score   support\n",
      "\n",
      "     medical       0.95      0.92      0.93       150\n",
      " non-medical       0.92      0.95      0.93       150\n",
      "\n",
      "    accuracy                           0.93       300\n",
      "   macro avg       0.93      0.93      0.93       300\n",
      "weighted avg       0.93      0.93      0.93       300\n",
      "\n"
     ]
    },
    {
     "data": {
      "image/png": "[encoded data removed]",
      "text/plain": [
       "<Figure size 640x480 with 2 Axes>"
      ]
     },
     "metadata": {},
     "output_type": "display_data"
    }
   ],
   "source": [
    "# I create the featuresets for the documents and I split them into train and test sets, with a 80/20 ratio\n",
    "featuresets = [(document_features(doc), category) for doc, category in preprocessed_documents]\n",
    "train_features = featuresets[:int(len(featuresets)*0.8)]\n",
    "test_features = featuresets[int(len(featuresets)*0.8):]\n",
    "\n",
    "# I train the Naive Bayes classifier and I test it on the test set\n",
    "classifier = NaiveBayesClassifier.train(train_features)\n",
    "y_pred = classifier.classify_many([doc for doc, _ in test_features])\n",
    "y_true = [cat for _, cat in test_features]\n",
    "\n",
    "# I print the classification report and the confusion matrix\n",
    "print(classification_report(y_true, y_pred))\n",
    "ConfusionMatrixDisplay.from_predictions(y_true, y_pred, labels=['medical', 'non-medical'])\n",
    "plt.show()"
   ]
  },
  {
   "cell_type": "code",
   "execution_count": 50,
   "metadata": {},
   "outputs": [],
   "source": [
    "# I test the classifier on a new Wikipedia page\n",
    "wikipedia = wikipediaapi.Wikipedia('test (my@email.address)''en')\n",
    "page_title = 'French Revolution'"
   ]
  },
  {
   "cell_type": "code",
   "execution_count": 51,
   "metadata": {},
   "outputs": [
    {
     "name": "stdout",
     "output_type": "stream",
     "text": [
      "The page \"French Revolution\" is classified as non-medical\n"
     ]
    }
   ],
   "source": [
    "input_text = wikipedia.page(page_title).text\n",
    "input_words = word_tokenize(input_text.lower())\n",
    "input_words = [word for word in input_words if word.isalpha() and word not in stop_words]\n",
    "input_words = [stemmer.stem(word) for word in input_words]\n",
    "input_features = document_features(input_words)\n",
    "predicted_category = classifier.classify(input_features)\n",
    "print(f'The page \"{page_title}\" is classified as {predicted_category}')"
   ]
  },
  {
   "cell_type": "code",
   "execution_count": 52,
   "metadata": {},
   "outputs": [],
   "source": [
    "# I test the classifier on PubMed articles\n",
    "pubmed = PubMed(tool=\"test\", email=\"my@email.address\")\n",
    "query = 'Coronavirus'\n",
    "results = pubmed.query(query, max_results=500)"
   ]
  },
  {
   "cell_type": "code",
   "execution_count": 53,
   "metadata": {},
   "outputs": [
    {
     "name": "stdout",
     "output_type": "stream",
     "text": [
      "470 PubMed articles out of 489 about Coronavirus where classified as medical\n"
     ]
    }
   ],
   "source": [
    "predictions = []\n",
    "for article in results:\n",
    "    article_title = article.title\n",
    "    input_text = article.abstract\n",
    "    if input_text is None:\n",
    "        continue\n",
    "    input_words = word_tokenize(input_text.lower())\n",
    "    input_words = [word for word in input_words if word.isalpha() and word not in stop_words]\n",
    "    input_words = [stemmer.stem(word) for word in input_words]\n",
    "    input_features = document_features(input_words)\n",
    "    predicted_category = classifier.classify(input_features)\n",
    "    predictions.append(predicted_category)\n",
    "print(f'{predictions.count(\"medical\")} PubMed articles out of {len(predictions)} about {query} where classified as medical')"
   ]
  },
  {
   "cell_type": "markdown",
   "metadata": {},
   "source": [
    "To find and download the pages from wikipedia I used the package *Wikipedia-API* which makes it easier to call the APIs of Wikipedia to download pages, find the content, the title etc.\n",
    "\n",
    "**add_pages**:\n",
    "it recursively adds pages, not already in the list of *titles* and from the *categorymembers* of the chosen category, to the list of pages until it reaches the max number of pages, from time to time I also put a lower and a higher threshold for the amount of characters in the pages: most of the pages have atleast 10000 characters (~1500/2000 words) and a small amount more than 50000 or less than 7500. \n",
    "\n",
    "For medical pages I looked in the categories under the section *'Health and fitness'* at this url: https://en.wikipedia.org/wiki/Wikipedia:Contents/Categories, in particular the categories of the subsections: *'Medicine'*, *'Psychology'*, *'Health science'*, *'Dentistry'*, for example: *'Medicine'*, *'Oncology'*, *'Psychiatry'*, *'Epidemiology'*, *'Surgery'*, *'Optometry'*, *'Pharmacy'*, *'Urology'*, *'Mental health'*, *'Cardiology'* etc.\n",
    "\n",
    "For non-medical pages I mainly looked in the categories: *'Sports'*, *'Politics'*, *'Games'*, *'Film'*, *'Artificial intelligence'*, *'Museums'*, *'Crime'*, *'Equations'*, *'Cars'*, *'Cycling'*, *'Literature'*.\n",
    "\n",
    "\n",
    "**download_pages**:\n",
    "it downloads the pages in the *pages_list* in the folder 'pages'. For medical pages it adds the suffix '[medical]' to the file name, for non-medical pages it adds the suffix '[non-medical]'."
   ]
  },
  {
   "cell_type": "code",
   "execution_count": 54,
   "metadata": {},
   "outputs": [],
   "source": [
    "# Cell used to find the pages and download them\n",
    "wikipedia = wikipediaapi.Wikipedia('test (my@email.address)''en')\n",
    "def add_pages(categorymembers, pages, max_pages, level=0, max_level=1, titles=[]):\n",
    "    for c in categorymembers.values():\n",
    "        sleep(0.1)\n",
    "        if len(pages) == max_pages:\n",
    "            return pages\n",
    "        elif c.ns == wikipediaapi.Namespace.CATEGORY and level < max_level:\n",
    "            add_pages(c.categorymembers, pages, max_pages, level=level + 1, max_level=max_level, titles=titles)\n",
    "        elif c.ns == wikipediaapi.Namespace.MAIN and len(pages) < max_pages:\n",
    "            if c.title not in titles:\n",
    "                pages.append(wikipedia.page(c.title))\n",
    "                if len(pages) % 10 == 0:\n",
    "                    print(f'Found page {c.title}, number of pages found: {len(pages)}')\n",
    "    return pages\n",
    "\n",
    "def download_pages(pages_list, medical=False):\n",
    "    for pages in pages_list:\n",
    "        try:\n",
    "            if medical:\n",
    "                with open('pages/' + pages.title + '[medical].txt', 'w') as f:\n",
    "                    f.write(pages.text)\n",
    "            else:\n",
    "                with open('pages/' + pages.title + '[non-medical].txt', 'w') as f:\n",
    "                    f.write(pages.text)\n",
    "        except:\n",
    "            pass"
   ]
  }
 ],
 "metadata": {
  "kernelspec": {
   "display_name": "nlp-lab_env",
   "language": "python",
   "name": "python3"
  },
  "language_info": {
   "codemirror_mode": {
    "name": "ipython",
    "version": 3
   },
   "file_extension": ".py",
   "mimetype": "text/x-python",
   "name": "python",
   "nbconvert_exporter": "python",
   "pygments_lexer": "ipython3",
   "version": "3.11.6"
  }
 },
 "nbformat": 4,
 "nbformat_minor": 2
}
